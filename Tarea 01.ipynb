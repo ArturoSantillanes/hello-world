{
 "cells": [
  {
   "cell_type": "markdown",
   "id": "4312f13f-0b52-41d2-a315-a7a3a21d822d",
   "metadata": {
    "tags": []
   },
   "source": [
    "# Arturo Santillanes Llamas - Tarea 01"
   ]
  },
  {
   "cell_type": "markdown",
   "id": "bc5abbbf-65c1-4781-ab1e-97e1285bc7d5",
   "metadata": {},
   "source": [
    "## Lista de 100 elementos con multiplos de 3"
   ]
  },
  {
   "cell_type": "code",
   "execution_count": 7,
   "id": "2637a80f-ba92-4e84-bf64-b0f4881e778f",
   "metadata": {
    "tags": []
   },
   "outputs": [
    {
     "name": "stdout",
     "output_type": "stream",
     "text": [
      "Los múltiplos de tres son:\n",
      "[3, 6, 9, 12, 15, 18, 21, 24, 27, 30, 33, 36, 39, 42, 45, 48, 51, 54, 57, 60, 63, 66, 69, 72, 75, 78, 81, 84, 87, 90, 93, 96, 99, 102, 105, 108, 111, 114, 117, 120, 123, 126, 129, 132, 135, 138, 141, 144, 147, 150, 153, 156, 159, 162, 165, 168, 171, 174, 177, 180, 183, 186, 189, 192, 195, 198, 201, 204, 207, 210, 213, 216, 219, 222, 225, 228, 231, 234, 237, 240, 243, 246, 249, 252, 255, 258, 261, 264, 267, 270, 273, 276, 279, 282, 285, 288, 291, 294, 297, 300]\n"
     ]
    }
   ],
   "source": [
    "multiplos_de_tres = []\n",
    "\n",
    "for i in range(1, 101):\n",
    "    # Calcular el múltiplo de tres para el número actual\n",
    "    multiplo = i * 3\n",
    "    \n",
    "    multiplos_de_tres.append(multiplo)\n",
    "\n",
    "print(\"Los múltiplos de tres son:\")\n",
    "print(multiplos_de_tres)\n"
   ]
  },
  {
   "cell_type": "code",
   "execution_count": 13,
   "id": "4dae3488-68d3-4aec-869f-233b3cbcddf9",
   "metadata": {
    "tags": []
   },
   "outputs": [
    {
     "name": "stdout",
     "output_type": "stream",
     "text": [
      "Persona 1: IMC = 33.70\n",
      "Persona 2: IMC = 29.56\n",
      "Persona 3: IMC = 23.82\n",
      "Persona 4: IMC = 43.34\n",
      "Persona 5: IMC = 39.08\n",
      "Persona 6: IMC = 29.39\n",
      "Persona 7: IMC = 27.51\n",
      "Persona 8: IMC = 23.88\n",
      "Persona 9: IMC = 18.29\n",
      "Persona 10: IMC = 42.74\n",
      "Persona 11: IMC = 37.84\n",
      "Persona 12: IMC = 25.89\n",
      "Persona 13: IMC = 36.07\n",
      "Persona 14: IMC = 19.08\n",
      "Persona 15: IMC = 31.49\n",
      "Persona 16: IMC = 41.67\n",
      "Persona 17: IMC = 24.24\n",
      "Persona 18: IMC = 16.21\n",
      "Persona 19: IMC = 22.84\n",
      "Persona 20: IMC = 34.72\n",
      "Persona 21: IMC = 18.67\n",
      "Persona 22: IMC = 41.23\n",
      "Persona 23: IMC = 19.26\n",
      "Persona 24: IMC = 29.67\n",
      "Persona 25: IMC = 40.86\n",
      "Persona 26: IMC = 26.17\n",
      "Persona 27: IMC = 40.23\n",
      "Persona 28: IMC = 31.13\n",
      "Persona 29: IMC = 26.89\n",
      "Persona 30: IMC = 26.86\n",
      "Persona 31: IMC = 38.09\n",
      "Persona 32: IMC = 28.20\n",
      "Persona 33: IMC = 20.62\n",
      "Persona 34: IMC = 20.44\n",
      "Persona 35: IMC = 18.61\n",
      "Persona 36: IMC = 43.72\n",
      "Persona 37: IMC = 39.95\n",
      "Persona 38: IMC = 29.74\n",
      "Persona 39: IMC = 21.52\n",
      "Persona 40: IMC = 50.22\n",
      "Persona 41: IMC = 46.74\n",
      "Persona 42: IMC = 32.69\n",
      "Persona 43: IMC = 38.39\n",
      "Persona 44: IMC = 21.67\n",
      "Persona 45: IMC = 33.33\n",
      "Persona 46: IMC = 31.12\n",
      "Persona 47: IMC = 16.95\n",
      "Persona 48: IMC = 27.39\n",
      "Persona 49: IMC = 24.84\n",
      "Persona 50: IMC = 41.80\n",
      "Persona 51: IMC = 30.11\n",
      "Persona 52: IMC = 25.08\n",
      "Persona 53: IMC = 47.61\n",
      "Persona 54: IMC = 49.34\n",
      "Persona 55: IMC = 27.34\n",
      "Persona 56: IMC = 19.14\n",
      "Persona 57: IMC = 35.50\n",
      "Persona 58: IMC = 40.82\n",
      "Persona 59: IMC = 14.65\n",
      "Persona 60: IMC = 42.19\n",
      "Persona 61: IMC = 21.08\n",
      "Persona 62: IMC = 18.84\n",
      "Persona 63: IMC = 32.25\n",
      "Persona 64: IMC = 54.42\n",
      "Persona 65: IMC = 35.32\n",
      "Persona 66: IMC = 31.43\n",
      "Persona 67: IMC = 22.49\n",
      "Persona 68: IMC = 48.49\n",
      "Persona 69: IMC = 40.90\n",
      "Persona 70: IMC = 31.02\n",
      "Persona 71: IMC = 28.76\n",
      "Persona 72: IMC = 30.11\n",
      "Persona 73: IMC = 30.32\n",
      "Persona 74: IMC = 35.09\n",
      "Persona 75: IMC = 32.99\n",
      "Persona 76: IMC = 47.47\n",
      "Persona 77: IMC = 26.13\n",
      "Persona 78: IMC = 44.46\n",
      "Persona 79: IMC = 24.53\n",
      "Persona 80: IMC = 19.73\n",
      "Persona 81: IMC = 25.08\n",
      "Persona 82: IMC = 21.11\n",
      "Persona 83: IMC = 47.26\n",
      "Persona 84: IMC = 29.59\n",
      "Persona 85: IMC = 36.25\n",
      "Persona 86: IMC = 31.41\n",
      "Persona 87: IMC = 26.03\n",
      "Persona 88: IMC = 54.70\n",
      "Persona 89: IMC = 32.86\n",
      "Persona 90: IMC = 21.50\n",
      "Persona 91: IMC = 24.62\n",
      "Persona 92: IMC = 41.86\n",
      "Persona 93: IMC = 28.21\n",
      "Persona 94: IMC = 41.14\n",
      "Persona 95: IMC = 19.38\n",
      "Persona 96: IMC = 39.64\n",
      "Persona 97: IMC = 41.32\n",
      "Persona 98: IMC = 38.54\n",
      "Persona 99: IMC = 23.53\n",
      "Persona 100: IMC = 40.77\n"
     ]
    }
   ],
   "source": [
    "data = [\n",
    "    (1, 67, 1.41),\n",
    "    (2, 99, 1.83),\n",
    "    (3, 86, 1.9),\n",
    "    (4, 118, 1.65),\n",
    "    (5, 109, 1.67),\n",
    "    (6, 81, 1.66),\n",
    "    (7, 74, 1.64),\n",
    "    (8, 69, 1.7),\n",
    "    (9, 51, 1.67),\n",
    "    (10, 104, 1.56),\n",
    "    (11, 84, 1.49),\n",
    "    (12, 63, 1.56),\n",
    "    (13, 79, 1.48),\n",
    "    (14, 66, 1.86),\n",
    "    (15, 91, 1.7),\n",
    "    (16, 119, 1.69),\n",
    "    (17, 56, 1.52),\n",
    "    (18, 61, 1.94),\n",
    "    (19, 66, 1.7),\n",
    "    (20, 72, 1.44),\n",
    "    (21, 66, 1.88),\n",
    "    (22, 94, 1.51),\n",
    "    (23, 55, 1.69),\n",
    "    (24, 94, 1.78),\n",
    "    (25, 102, 1.58),\n",
    "    (26, 82, 1.77),\n",
    "    (27, 103, 1.6),\n",
    "    (28, 102, 1.81),\n",
    "    (29, 75, 1.67),\n",
    "    (30, 88, 1.81),\n",
    "    (31, 114, 1.73),\n",
    "    (32, 74, 1.62),\n",
    "    (33, 76, 1.92),\n",
    "    (34, 73, 1.89),\n",
    "    (35, 63, 1.84),\n",
    "    (36, 101, 1.52),\n",
    "    (37, 101, 1.59),\n",
    "    (38, 89, 1.73),\n",
    "    (39, 81, 1.94),\n",
    "    (40, 110, 1.48),\n",
    "    (41, 101, 1.47),\n",
    "    (42, 118, 1.9),\n",
    "    (43, 102, 1.63),\n",
    "    (44, 59, 1.65),\n",
    "    (45, 74, 1.49),\n",
    "    (46, 91, 1.71),\n",
    "    (47, 58, 1.85),\n",
    "    (48, 60, 1.48),\n",
    "    (49, 85, 1.85),\n",
    "    (50, 107, 1.6),\n",
    "    (51, 111, 1.92),\n",
    "    (52, 65, 1.61),\n",
    "    (53, 110, 1.52),\n",
    "    (54, 114, 1.52),\n",
    "    (55, 70, 1.6),\n",
    "    (56, 62, 1.8),\n",
    "    (57, 99, 1.67),\n",
    "    (58, 80, 1.4),\n",
    "    (59, 54, 1.92),\n",
    "    (60, 108, 1.6),\n",
    "    (61, 56, 1.63),\n",
    "    (62, 68, 1.9),\n",
    "    (63, 108, 1.83),\n",
    "    (64, 116, 1.46),\n",
    "    (65, 117, 1.82),\n",
    "    (66, 67, 1.46),\n",
    "    (67, 65, 1.7),\n",
    "    (68, 118, 1.56),\n",
    "    (69, 86, 1.45),\n",
    "    (70, 95, 1.75),\n",
    "    (71, 70, 1.56),\n",
    "    (72, 80, 1.63),\n",
    "    (73, 62, 1.43),\n",
    "    (74, 80, 1.51),\n",
    "    (75, 92, 1.67),\n",
    "    (76, 117, 1.57),\n",
    "    (77, 72, 1.66),\n",
    "    (78, 111, 1.58),\n",
    "    (79, 53, 1.47),\n",
    "    (80, 69, 1.87),\n",
    "    (81, 52, 1.44),\n",
    "    (82, 77, 1.91),\n",
    "    (83, 115, 1.56),\n",
    "    (84, 58, 1.4),\n",
    "    (85, 106, 1.71),\n",
    "    (86, 117, 1.93),\n",
    "    (87, 77, 1.72),\n",
    "    (88, 115, 1.45),\n",
    "    (89, 71, 1.47),\n",
    "    (90, 76, 1.88),\n",
    "    (91, 87, 1.88),\n",
    "    (92, 98, 1.53),\n",
    "    (93, 104, 1.92),\n",
    "    (94, 112, 1.65),\n",
    "    (95, 56, 1.7),\n",
    "    (96, 88, 1.49),\n",
    "    (97, 98, 1.54),\n",
    "    (98, 95, 1.57),\n",
    "    (99, 61, 1.61),\n",
    "    (100, 107, 1.62)\n",
    "]\n",
    "\n",
    "def calcular_imc(peso, estatura):\n",
    "    return peso / (estatura ** 2)\n",
    "\n",
    "imcs = []\n",
    "\n",
    "for persona, peso, estatura in data:\n",
    "    imc = calcular_imc(peso, estatura)\n",
    "    imcs.append(imc)\n",
    "\n",
    "for i, imc in enumerate(imcs):\n",
    "    print(f\"Persona {i + 1}: IMC = {imc:.2f}\")\n",
    "\n",
    "\n",
    "\n",
    "\n",
    "\n"
   ]
  },
  {
   "cell_type": "code",
   "execution_count": 15,
   "id": "b9348c58-5835-4256-bb5f-a77c1408c240",
   "metadata": {
    "tags": []
   },
   "outputs": [
    {
     "name": "stdout",
     "output_type": "stream",
     "text": [
      "Utilidades por mes:\n",
      "Enero: $-540\n",
      "Febrero: $-540\n",
      "Marzo: $1430\n",
      "Abril: $1080\n",
      "Mayo: $-1660\n",
      "Junio: $-360\n",
      "Julio: $-730\n",
      "Agosto: $1030\n",
      "Septiembre: $440\n",
      "Octubre: $-160\n",
      "Noviembre: $2080\n",
      "Diciembre: $-1760\n"
     ]
    }
   ],
   "source": [
    "meses = [\"Enero\", \"Febrero\", \"Marzo\", \"Abril\", \"Mayo\", \"Junio\", \"Julio\", \"Agosto\", \"Septiembre\", \"Octubre\", \"Noviembre\", \"Diciembre\"]\n",
    "ingresos = [1340, 2590, 3570, 4450, 1330, 1610, 1500, 2270, 1910, 2120, 3950, 1380]\n",
    "gastos = [1880, 3130, 2140, 3370, 2990, 1970, 2230, 1240, 1470, 2280, 1870, 3140]\n",
    "\n",
    "print(\"Utilidades por mes:\")\n",
    "for i in range(len(meses)):\n",
    "    utilidad = ingresos[i] - gastos[i]\n",
    "    print(meses[i] + \": $\" + str(utilidad))"
   ]
  },
  {
   "cell_type": "code",
   "execution_count": 17,
   "id": "1e416e9e-c840-43c6-8a4f-7f24d0225671",
   "metadata": {
    "tags": []
   },
   "outputs": [
    {
     "name": "stdout",
     "output_type": "stream",
     "text": [
      "Promedio de gastos en los malos meses: $2517.14\n"
     ]
    }
   ],
   "source": [
    "meses = [\"Enero\", \"Febrero\", \"Marzo\", \"Abril\", \"Mayo\", \"Junio\", \"Julio\", \"Agosto\", \"Septiembre\", \"Octubre\", \"Noviembre\", \"Diciembre\"]\n",
    "ingresos = [1340, 2590, 3570, 4450, 1330, 1610, 1500, 2270, 1910, 2120, 3950, 1380]\n",
    "gastos = [1880, 3130, 2140, 3370, 2990, 1970, 2230, 1240, 1470, 2280, 1870, 3140]\n",
    "\n",
    "meses_negativos = []\n",
    "total_gastos_negativos = 0\n",
    "contador_negativos = 0\n",
    "\n",
    "for i in range(len(meses)):\n",
    "    utilidad = ingresos[i] - gastos[i]\n",
    "    if utilidad < 0:\n",
    "        meses_negativos.append(meses[i])\n",
    "        total_gastos_negativos += gastos[i]\n",
    "        contador_negativos += 1\n",
    "\n",
    "if contador_negativos > 0:\n",
    "    promedio_gastos_negativos = total_gastos_negativos / contador_negativos\n",
    "    print(f\"Promedio de gastos en los malos meses: ${promedio_gastos_negativos:.2f}\")\n",
    "else:\n",
    "    print(\"¡Todo bien, ningún mes malo!\")"
   ]
  },
  {
   "cell_type": "code",
   "execution_count": 20,
   "id": "5152871d-07de-45c7-88c0-b66415892fc1",
   "metadata": {
    "tags": []
   },
   "outputs": [
    {
     "name": "stdout",
     "output_type": "stream",
     "text": [
      "Ingresos totales del año: $28020\n"
     ]
    }
   ],
   "source": [
    "meses = [\"Enero\", \"Febrero\", \"Marzo\", \"Abril\", \"Mayo\", \"Junio\", \"Julio\", \"Agosto\", \"Septiembre\", \"Octubre\", \"Noviembre\", \"Diciembre\"]\n",
    "ingresos = [1340, 2590, 3570, 4450, 1330, 1610, 1500, 2270, 1910, 2120, 3950, 1380]\n",
    "\n",
    "ingresos_totales = sum(ingresos)\n",
    "\n",
    "print(f\"Ingresos totales del año: ${ingresos_totales}\")\n"
   ]
  },
  {
   "cell_type": "code",
   "execution_count": null,
   "id": "775a2442-90f4-49ba-acaf-a0d3bf60c6c3",
   "metadata": {},
   "outputs": [],
   "source": []
  }
 ],
 "metadata": {
  "kernelspec": {
   "display_name": "Python 3 (ipykernel)",
   "language": "python",
   "name": "python3"
  },
  "language_info": {
   "codemirror_mode": {
    "name": "ipython",
    "version": 3
   },
   "file_extension": ".py",
   "mimetype": "text/x-python",
   "name": "python",
   "nbconvert_exporter": "python",
   "pygments_lexer": "ipython3",
   "version": "3.11.4"
  }
 },
 "nbformat": 4,
 "nbformat_minor": 5
}
