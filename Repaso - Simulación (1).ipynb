{
 "cells": [
  {
   "cell_type": "markdown",
   "metadata": {},
   "source": [
    "# Repaso - Módulo 2\n",
    "---"
   ]
  },
  {
   "cell_type": "markdown",
   "metadata": {},
   "source": [
    "## Cifrado\n",
    "\n",
    "Se recibió un mensaje cifrado con un método congruencial simple: $ x_n = (ax_{n-1}+b)\\mod m $.\n",
    "\n",
    "El cifrado que se usó es el siguiente:\n",
    "- 0 corresponde a 'A'\n",
    "- 1 corresponde a 'B'\n",
    "- 2 corresponde a 'C'\n",
    "- ...\n",
    "- 25 corresponde a 'Z' (no hay 'Ñ')\n",
    "- Se toma la letra y se le suma un número aleatorio desconocido.\n",
    "- Se generan 3 números antes de empezar el cifrado; esto quiere decir que la primera letra es \"Letra + $x_3$\"\n",
    "- El mensaje que llegó fue: \"12, 19, 15, 24\"\n",
    "\n",
    "Sabiendo de antemano que los parámetros de este generador son $m=16$, $a=5$, $b=3$ y que la semilla fue $7$; ¿cuál es el mensaje decodificado?"
   ]
  },
  {
   "cell_type": "code",
   "execution_count": null,
   "metadata": {},
   "outputs": [],
   "source": []
  },
  {
   "cell_type": "code",
   "execution_count": null,
   "metadata": {},
   "outputs": [],
   "source": []
  },
  {
   "cell_type": "code",
   "execution_count": null,
   "metadata": {},
   "outputs": [],
   "source": []
  },
  {
   "cell_type": "markdown",
   "metadata": {},
   "source": [
    "\n",
    "## Evaluación numérica de integrales utilizando Montecarlo\n",
    "Escriba la función para integrar por el método Montecarlo de tipo 1"
   ]
  },
  {
   "cell_type": "code",
   "execution_count": 48,
   "metadata": {
    "tags": []
   },
   "outputs": [],
   "source": [
    "import numpy as np\n",
    "import pandas as pd\n",
    "\n",
    "def montecarlo1(f,N,a,b):\n",
    "    up = np.random.uniform(a, b, N)\n",
    "    media = np.mean(f(up))\n",
    "    return media*(b-a)\n",
    "\n",
    "def f1(x):\n",
    "    return np.sqrt(1+x**4)\n",
    "\n",
    "def f2(x):\n",
    "    return np.log(np.log(x))\n",
    "\n",
    "def f3(x):\n",
    "    return 1/np.log(x)\n",
    "\n",
    "def f4(x):\n",
    "    return np.exp(-(x//2)/2)\n",
    "\n",
    "def montecarlo(f,N,a,b):\n",
    "    up = np.random.uniform(a,b,N)\n",
    "    media = np.mean(f(up))\n",
    "    return media*(b-a)\n",
    "\n",
    "a=4\n",
    "b=5\n",
    "N = np.logspace(1, 5, 5)\n",
    "table = pd.DataFrame(columns = [\"Aproximacion1\",\"Aproximacion2\",\"Aproximacion3\",\"Aproximacion4\", ])\n",
    "for i in N:\n",
    "    Aproximacion1 = montecarlo(f1, int(i), a, b)\n",
    "    Aproximacion2 = montecarlo(f2, int(i), a, b)\n",
    "    Aproximacion3 = montecarlo(f3, int(i), a, b)\n",
    "    Aproximacion4 = montecarlo(f4, int(i), a, b)\n",
    "    \n",
    "    table.loc[i, \"Aproximacion1\"] = Aproximacion1\n",
    "    table.loc[i, \"Aproximacion2\"] = Aproximacion2\n",
    "    table.loc[i, \"Aproximacion3\"] = Aproximacion3\n",
    "    table.loc[i, \"Aproximacion4\"] = Aproximacion4"
   ]
  },
  {
   "cell_type": "code",
   "execution_count": 49,
   "metadata": {
    "tags": []
   },
   "outputs": [
    {
     "data": {
      "text/html": [
       "<div>\n",
       "<style scoped>\n",
       "    .dataframe tbody tr th:only-of-type {\n",
       "        vertical-align: middle;\n",
       "    }\n",
       "\n",
       "    .dataframe tbody tr th {\n",
       "        vertical-align: top;\n",
       "    }\n",
       "\n",
       "    .dataframe thead th {\n",
       "        text-align: right;\n",
       "    }\n",
       "</style>\n",
       "<table border=\"1\" class=\"dataframe\">\n",
       "  <thead>\n",
       "    <tr style=\"text-align: right;\">\n",
       "      <th></th>\n",
       "      <th>Aproximacion1</th>\n",
       "      <th>Aproximacion2</th>\n",
       "      <th>Aproximacion3</th>\n",
       "      <th>Aproximacion4</th>\n",
       "    </tr>\n",
       "  </thead>\n",
       "  <tbody>\n",
       "    <tr>\n",
       "      <th>10.0</th>\n",
       "      <td>20.389183</td>\n",
       "      <td>0.418753</td>\n",
       "      <td>0.676648</td>\n",
       "      <td>0.367879</td>\n",
       "    </tr>\n",
       "    <tr>\n",
       "      <th>100.0</th>\n",
       "      <td>21.026794</td>\n",
       "      <td>0.402648</td>\n",
       "      <td>0.666692</td>\n",
       "      <td>0.367879</td>\n",
       "    </tr>\n",
       "    <tr>\n",
       "      <th>1000.0</th>\n",
       "      <td>20.279179</td>\n",
       "      <td>0.405109</td>\n",
       "      <td>0.667041</td>\n",
       "      <td>0.367879</td>\n",
       "    </tr>\n",
       "    <tr>\n",
       "      <th>10000.0</th>\n",
       "      <td>20.349483</td>\n",
       "      <td>0.405498</td>\n",
       "      <td>0.666791</td>\n",
       "      <td>0.367879</td>\n",
       "    </tr>\n",
       "    <tr>\n",
       "      <th>100000.0</th>\n",
       "      <td>20.35269</td>\n",
       "      <td>0.405871</td>\n",
       "      <td>0.6669</td>\n",
       "      <td>0.367879</td>\n",
       "    </tr>\n",
       "  </tbody>\n",
       "</table>\n",
       "</div>"
      ],
      "text/plain": [
       "         Aproximacion1 Aproximacion2 Aproximacion3 Aproximacion4\n",
       "10.0         20.389183      0.418753      0.676648      0.367879\n",
       "100.0        21.026794      0.402648      0.666692      0.367879\n",
       "1000.0       20.279179      0.405109      0.667041      0.367879\n",
       "10000.0      20.349483      0.405498      0.666791      0.367879\n",
       "100000.0      20.35269      0.405871        0.6669      0.367879"
      ]
     },
     "execution_count": 49,
     "metadata": {},
     "output_type": "execute_result"
    }
   ],
   "source": [
    "table"
   ]
  },
  {
   "cell_type": "markdown",
   "metadata": {},
   "source": [
    "Considere las funciones $f_1(x)=\\sqrt{1+x^{4}}$, $f_2(x)=\\ln(\\ln x)$, $f_3(x)=\\frac {1}{\\ln x}$, y $f_4(x)=e^{-{\\frac {x^{2}}{2}}}$.\n",
    "\n",
    "Utilizar la función anterior para realizar la evaluación numérica de las integrales de las funciones anteriores en el intervalo $(4,5)$. Poner los resultados en una tabla cuyas filas correspondan a la cantidad de términos utilizados en la aproximación (usar 10, 100, 1000, 10000 y 100000 términos) y cuyas columnas correspondan a las funciones."
   ]
  },
  {
   "cell_type": "code",
   "execution_count": null,
   "metadata": {},
   "outputs": [],
   "source": []
  },
  {
   "cell_type": "code",
   "execution_count": null,
   "metadata": {},
   "outputs": [],
   "source": []
  },
  {
   "cell_type": "code",
   "execution_count": null,
   "metadata": {},
   "outputs": [],
   "source": []
  },
  {
   "cell_type": "markdown",
   "metadata": {},
   "source": [
    "## Montecarlo Tipo 2\n",
    "Aproximar el área de la región descrita por\n",
    "\n",
    "$$x^2+2y^2\\leq-2x+8y-7$$\n",
    "\n",
    "Poner los resultados en una tabla cuyas filas correspondan a la cantidad de términos utilizados en la aproximación (usar 10, 100, 1000, 10000 y 100000 términos) y en las columnas el valor de aproximación y el error de integración.\n",
    "\n",
    "Definir unos límites adecuados $a_1$, $b_1$, $a_2$ y $b_2$, para la región $R=\\left[a_1,b_1\\right]\\times\\left[a_2,b_2\\right]$ y grafíque esta región."
   ]
  },
  {
   "cell_type": "code",
   "execution_count": 53,
   "metadata": {
    "tags": []
   },
   "outputs": [
    {
     "data": {
      "text/plain": [
       "0.0"
      ]
     },
     "execution_count": 53,
     "metadata": {},
     "output_type": "execute_result"
    }
   ],
   "source": [
    "import numpy as np\n",
    "x = np.random.uniform(10, 100, 1000)\n",
    "y = np.random.uniform(10, 100, 1000)\n",
    "\n",
    "x, y = np.meshgrid(x, y)\n",
    "\n",
    "def region(x, y) :\n",
    "    return x**2+2*y**2 <= -2*x+8*y-7\n",
    "\n",
    "x = np.random.uniform(10, 100, 1000)\n",
    "y = np.random.uniform(10, 100, 1000)\n",
    "x, Y = np.meshgrid(x, y)\n",
    "\n",
    "def montecarlo2(region, xa, xb, ya, yb, N):\n",
    "    x = np.random.uniform(xa, xb, N)\n",
    "    y = np.random.uniform(ya, yb, N)\n",
    "    B = region(x,y)\n",
    "    AR = (xb-xa)*(yb-ya)\n",
    "    return np.mean(B)*AR\n",
    "\n",
    "montecarlo2(region, 10, 100, 1000, 10000, 100000)"
   ]
  },
  {
   "cell_type": "code",
   "execution_count": 54,
   "metadata": {
    "tags": []
   },
   "outputs": [
    {
     "data": {
      "text/html": [
       "<div>\n",
       "<style scoped>\n",
       "    .dataframe tbody tr th:only-of-type {\n",
       "        vertical-align: middle;\n",
       "    }\n",
       "\n",
       "    .dataframe tbody tr th {\n",
       "        vertical-align: top;\n",
       "    }\n",
       "\n",
       "    .dataframe thead th {\n",
       "        text-align: right;\n",
       "    }\n",
       "</style>\n",
       "<table border=\"1\" class=\"dataframe\">\n",
       "  <thead>\n",
       "    <tr style=\"text-align: right;\">\n",
       "      <th></th>\n",
       "      <th>Aproximación</th>\n",
       "    </tr>\n",
       "  </thead>\n",
       "  <tbody>\n",
       "    <tr>\n",
       "      <th>10.0</th>\n",
       "      <td>0.0</td>\n",
       "    </tr>\n",
       "    <tr>\n",
       "      <th>100.0</th>\n",
       "      <td>0.0</td>\n",
       "    </tr>\n",
       "    <tr>\n",
       "      <th>1000.0</th>\n",
       "      <td>0.0</td>\n",
       "    </tr>\n",
       "    <tr>\n",
       "      <th>10000.0</th>\n",
       "      <td>0.0</td>\n",
       "    </tr>\n",
       "    <tr>\n",
       "      <th>100000.0</th>\n",
       "      <td>0.0</td>\n",
       "    </tr>\n",
       "  </tbody>\n",
       "</table>\n",
       "</div>"
      ],
      "text/plain": [
       "         Aproximación\n",
       "10.0              0.0\n",
       "100.0             0.0\n",
       "1000.0            0.0\n",
       "10000.0           0.0\n",
       "100000.0          0.0"
      ]
     },
     "execution_count": 54,
     "metadata": {},
     "output_type": "execute_result"
    }
   ],
   "source": [
    "import numpy as np\n",
    "import pandas as pd\n",
    "\n",
    "def f(x):\n",
    "    return 1/np.log10(x)\n",
    "\n",
    "a = 2\n",
    "b = 2.1\n",
    "N = np.logspace(1, 5, 5)\n",
    "\n",
    "table2 = pd.DataFrame(columns = [\"Aproximación\"], index=N)\n",
    "\n",
    "def montecarlo2(region, xa, xb, ya, yb, N):\n",
    "    x = np.random.uniform(xa, xb, N)\n",
    "    y = np.random.uniform(ya, yb, N)\n",
    "    B = region(x,y)\n",
    "    AR = (xb-xa)*(yb-ya)\n",
    "    return np.mean(B)*AR\n",
    "\n",
    "montecarlo2(region, -0.05, 0.9, 0, 1, 10)\n",
    "\n",
    "for i in N:\n",
    "    aproximacion2 = montecarlo2(region, -0.05, 0.9, 0, 1, int(i))\n",
    "    table2.loc[i, \"Aproximación\"] = aproximacion2\n",
    "table2"
   ]
  },
  {
   "cell_type": "code",
   "execution_count": null,
   "metadata": {},
   "outputs": [],
   "source": []
  },
  {
   "cell_type": "markdown",
   "metadata": {},
   "source": [
    "---\n",
    "## Fractal aleatorio tipo Barnsley\n",
    "\n",
    "- En la clase de fractales aleatorios vimos que el fractal helecho de Barnsley se generaba a través de cuatro transformaciones afines que se elegían con cierta probabilidad.\n",
    "- Vimos que este helecho representaba de manera muy aproximada helechos reales.\n",
    "- Vimos que modificando parámetros de la tabla, se podían generar mutaciones de el helecho.\n",
    "\n",
    "Pues bien, usando la misma idea de transformaciones afines que se escogen con cierta probabilidad, se pueden generar una infinidad inimaginable de fractales. Incluso, se pueden generar fractales aleatorios que poseen un atractor determinístico.\n",
    "\n",
    "**Referencia:**\n",
    "- Barnsley, Michael F. *Fractals Everywhere: New Edition*, ISBN: 9780486320342."
   ]
  },
  {
   "cell_type": "markdown",
   "metadata": {},
   "source": [
    "Usando la siguiente tabla, evalúe el fractal de Barnsley para 100 000 puntos."
   ]
  },
  {
   "cell_type": "code",
   "execution_count": 1,
   "metadata": {},
   "outputs": [],
   "source": [
    "import pandas as pd\n",
    "import numpy as np"
   ]
  },
  {
   "cell_type": "code",
   "execution_count": 2,
   "metadata": {},
   "outputs": [
    {
     "data": {
      "text/html": [
       "<div>\n",
       "<style scoped>\n",
       "    .dataframe tbody tr th:only-of-type {\n",
       "        vertical-align: middle;\n",
       "    }\n",
       "\n",
       "    .dataframe tbody tr th {\n",
       "        vertical-align: top;\n",
       "    }\n",
       "\n",
       "    .dataframe thead th {\n",
       "        text-align: right;\n",
       "    }\n",
       "</style>\n",
       "<table border=\"1\" class=\"dataframe\">\n",
       "  <thead>\n",
       "    <tr style=\"text-align: right;\">\n",
       "      <th></th>\n",
       "      <th>$a_i$</th>\n",
       "      <th>$b_i$</th>\n",
       "      <th>$c_i$</th>\n",
       "      <th>$d_i$</th>\n",
       "      <th>$e_i$</th>\n",
       "      <th>$f_i$</th>\n",
       "      <th>$p_i$</th>\n",
       "    </tr>\n",
       "    <tr>\n",
       "      <th>$i$</th>\n",
       "      <th></th>\n",
       "      <th></th>\n",
       "      <th></th>\n",
       "      <th></th>\n",
       "      <th></th>\n",
       "      <th></th>\n",
       "      <th></th>\n",
       "    </tr>\n",
       "  </thead>\n",
       "  <tbody>\n",
       "    <tr>\n",
       "      <th>0</th>\n",
       "      <td>0.5</td>\n",
       "      <td>0.0</td>\n",
       "      <td>0.0</td>\n",
       "      <td>0.5</td>\n",
       "      <td>1.0</td>\n",
       "      <td>1.0</td>\n",
       "      <td>0.1</td>\n",
       "    </tr>\n",
       "    <tr>\n",
       "      <th>1</th>\n",
       "      <td>0.5</td>\n",
       "      <td>0.0</td>\n",
       "      <td>0.0</td>\n",
       "      <td>0.5</td>\n",
       "      <td>50.0</td>\n",
       "      <td>1.0</td>\n",
       "      <td>0.2</td>\n",
       "    </tr>\n",
       "    <tr>\n",
       "      <th>2</th>\n",
       "      <td>0.5</td>\n",
       "      <td>0.0</td>\n",
       "      <td>0.0</td>\n",
       "      <td>0.5</td>\n",
       "      <td>1.0</td>\n",
       "      <td>50.0</td>\n",
       "      <td>0.3</td>\n",
       "    </tr>\n",
       "    <tr>\n",
       "      <th>3</th>\n",
       "      <td>0.5</td>\n",
       "      <td>0.0</td>\n",
       "      <td>0.0</td>\n",
       "      <td>0.5</td>\n",
       "      <td>50.0</td>\n",
       "      <td>50.0</td>\n",
       "      <td>0.4</td>\n",
       "    </tr>\n",
       "  </tbody>\n",
       "</table>\n",
       "</div>"
      ],
      "text/plain": [
       "     $a_i$  $b_i$  $c_i$  $d_i$  $e_i$  $f_i$  $p_i$\n",
       "$i$                                                 \n",
       "0      0.5    0.0    0.0    0.5    1.0    1.0    0.1\n",
       "1      0.5    0.0    0.0    0.5   50.0    1.0    0.2\n",
       "2      0.5    0.0    0.0    0.5    1.0   50.0    0.3\n",
       "3      0.5    0.0    0.0    0.5   50.0   50.0    0.4"
      ]
     },
     "execution_count": 2,
     "metadata": {},
     "output_type": "execute_result"
    }
   ],
   "source": [
    "i = np.arange(4)\n",
    "\n",
    "df = pd.DataFrame(index=i,columns=['$a_i$', '$b_i$', '$c_i$', '$d_i$', '$e_i$', '$f_i$', '$p_i$'], dtype='float')\n",
    "df.index.name = \"$i$\"\n",
    "\n",
    "df['$a_i$'] = [0.5, 0.5, 0.5, 0.5]\n",
    "df['$b_i$'] = [0.0, 0.0, 0.0, 0.0]\n",
    "df['$c_i$'] = [0.0, 0.0, 0.0, 0.0]\n",
    "df['$d_i$'] = [0.5, 0.5, 0.5, 0.5]\n",
    "df['$e_i$'] = [1.0, 50.0, 1.0, 50.0]\n",
    "df['$f_i$'] = [1.0, 1.0, 50.0, 50.0]\n",
    "df['$p_i$'] = [0.1, 0.2, 0.3, 0.4]\n",
    "\n",
    "df.round(2)"
   ]
  },
  {
   "cell_type": "code",
   "execution_count": null,
   "metadata": {},
   "outputs": [],
   "source": []
  },
  {
   "cell_type": "code",
   "execution_count": null,
   "metadata": {},
   "outputs": [],
   "source": []
  },
  {
   "cell_type": "code",
   "execution_count": null,
   "metadata": {},
   "outputs": [],
   "source": []
  },
  {
   "cell_type": "markdown",
   "metadata": {},
   "source": [
    "---\n",
    "## Probabilidad Precio-Umbral\n",
    "\n",
    "En las últimas clases vimos una aplicación de simulación montecarlo. Consistía en descargar datos históricos de precio de cierre de acciones de alguna compañía, proyectar esos precios y sacar la probabilidad de que los precios en el siguiente año sobrepasaran cierto precio umbral.\n",
    "\n",
    "En este ejemplo evaluaremos dos compañías con tendencias más o menos similares (Apple y Microsoft) veremos cuál tiene más probabilidades de darnos un interés deseado.\n",
    "\n",
    "Además, descargaremos los datos del año 2020 para ver si el análisis concuerda."
   ]
  },
  {
   "cell_type": "markdown",
   "metadata": {},
   "source": [
    "Descargue datos para Apple y Microsoft desde enero de 2015 a diciembre de 2019 y muestre sus gráficas."
   ]
  },
  {
   "cell_type": "code",
   "execution_count": null,
   "metadata": {},
   "outputs": [],
   "source": []
  },
  {
   "cell_type": "code",
   "execution_count": null,
   "metadata": {},
   "outputs": [],
   "source": []
  },
  {
   "cell_type": "code",
   "execution_count": null,
   "metadata": {},
   "outputs": [],
   "source": []
  },
  {
   "cell_type": "markdown",
   "metadata": {},
   "source": [
    "Calcule los rendimientos diarios junto con sus características estadísticas"
   ]
  },
  {
   "cell_type": "code",
   "execution_count": null,
   "metadata": {},
   "outputs": [],
   "source": []
  },
  {
   "cell_type": "code",
   "execution_count": null,
   "metadata": {},
   "outputs": [],
   "source": []
  },
  {
   "cell_type": "code",
   "execution_count": null,
   "metadata": {},
   "outputs": [],
   "source": []
  },
  {
   "cell_type": "markdown",
   "metadata": {},
   "source": [
    "Simule 1000 escenarios de rendimientos diarios para el 2020 (para cada una de las empresas)"
   ]
  },
  {
   "cell_type": "code",
   "execution_count": null,
   "metadata": {},
   "outputs": [],
   "source": []
  },
  {
   "cell_type": "code",
   "execution_count": null,
   "metadata": {},
   "outputs": [],
   "source": []
  },
  {
   "cell_type": "code",
   "execution_count": null,
   "metadata": {},
   "outputs": [],
   "source": []
  },
  {
   "cell_type": "markdown",
   "metadata": {},
   "source": [
    "Calcule los precios con base en los rendimientos simulados"
   ]
  },
  {
   "cell_type": "code",
   "execution_count": null,
   "metadata": {},
   "outputs": [],
   "source": []
  },
  {
   "cell_type": "code",
   "execution_count": null,
   "metadata": {},
   "outputs": [],
   "source": []
  },
  {
   "cell_type": "code",
   "execution_count": null,
   "metadata": {},
   "outputs": [],
   "source": []
  },
  {
   "cell_type": "markdown",
   "metadata": {},
   "source": [
    "Calcule la probabilidad de obtener un retorno del 20% para ambas marcas."
   ]
  },
  {
   "cell_type": "code",
   "execution_count": null,
   "metadata": {},
   "outputs": [],
   "source": []
  },
  {
   "cell_type": "code",
   "execution_count": null,
   "metadata": {},
   "outputs": [],
   "source": []
  },
  {
   "cell_type": "code",
   "execution_count": null,
   "metadata": {},
   "outputs": [],
   "source": []
  },
  {
   "cell_type": "markdown",
   "metadata": {},
   "source": [
    "Finalmente, grafique los datos reales del 2020 para ver que tan acertado fue nuestro análisis."
   ]
  },
  {
   "cell_type": "code",
   "execution_count": null,
   "metadata": {},
   "outputs": [],
   "source": []
  },
  {
   "cell_type": "code",
   "execution_count": null,
   "metadata": {},
   "outputs": [],
   "source": []
  },
  {
   "cell_type": "code",
   "execution_count": null,
   "metadata": {},
   "outputs": [],
   "source": []
  },
  {
   "cell_type": "markdown",
   "metadata": {},
   "source": [
    "## Probabilidad"
   ]
  },
  {
   "cell_type": "markdown",
   "metadata": {},
   "source": [
    "Imagina que en un país la estatura promedio es 164 centímetros, con una desviación estándar de 4 centímetros. ¿Cuál es la probabilidad de que si sumamos la estatura de 20 personas se obtenga un valor mayor a 30 metros?"
   ]
  },
  {
   "cell_type": "code",
   "execution_count": null,
   "metadata": {},
   "outputs": [],
   "source": []
  },
  {
   "cell_type": "code",
   "execution_count": null,
   "metadata": {},
   "outputs": [],
   "source": []
  },
  {
   "cell_type": "code",
   "execution_count": null,
   "metadata": {},
   "outputs": [],
   "source": []
  }
 ],
 "metadata": {
  "kernelspec": {
   "display_name": "Python 3 (ipykernel)",
   "language": "python",
   "name": "python3"
  },
  "language_info": {
   "codemirror_mode": {
    "name": "ipython",
    "version": 3
   },
   "file_extension": ".py",
   "mimetype": "text/x-python",
   "name": "python",
   "nbconvert_exporter": "python",
   "pygments_lexer": "ipython3",
   "version": "3.11.4"
  }
 },
 "nbformat": 4,
 "nbformat_minor": 4
}
