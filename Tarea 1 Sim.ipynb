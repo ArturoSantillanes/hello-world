{
 "cells": [
  {
   "cell_type": "markdown",
   "id": "e1cb2712-d769-4095-b1ee-3c8bcf2f3ee0",
   "metadata": {},
   "source": [
    "Hola, me llamo Arturo Santillanes Llamas, me gusta jugar futbol, tengo 19 años y estoy en tercer semestre de mi carrera que es ingeniería financiera, me interesa mucho la bolsa de valores y todas las variables que esta tiene"
   ]
  },
  {
   "cell_type": "markdown",
   "id": "dcd6420e-899c-4ab5-a11a-b7b03665d947",
   "metadata": {
    "tags": []
   },
   "source": [
    "# Tarea"
   ]
  },
  {
   "cell_type": "markdown",
   "id": "a6dd59d5-3c59-44b9-83d5-f81ec2e091b6",
   "metadata": {
    "tags": []
   },
   "source": [
    "## Subtítulo"
   ]
  },
  {
   "cell_type": "markdown",
   "id": "57368120-2cb8-4a5d-97a4-8b93aea20a84",
   "metadata": {
    "tags": []
   },
   "source": [
    "<p›Mensaje escrito<p/> \n",
    "<p›Lunes 14 de Agosto<p/> \n",
    "<p›Clase <p/>\n",
    "Simulación\n",
    "\n",
    "\n"
   ]
  },
  {
   "cell_type": "markdown",
   "id": "7231108a-d7d1-46f8-bf65-524cf5f1a081",
   "metadata": {
    "tags": []
   },
   "source": [
    "**chulis en negritas**"
   ]
  },
  {
   "cell_type": "markdown",
   "id": "1ad15ad7-e571-4468-920e-42f733eb8ca2",
   "metadata": {
    "tags": []
   },
   "source": [
    "*chulis en cúrsiva*"
   ]
  },
  {
   "cell_type": "markdown",
   "id": "382a4f2d-b6c4-4642-a59e-7fc19154400b",
   "metadata": {
    "tags": []
   },
   "source": [
    "![](https://pbs.twimg.com/profile_images/1543728120066215936/kZrRvZC9_400x400.jpg)"
   ]
  },
  {
   "cell_type": "markdown",
   "id": "7f6bf2aa-04ce-4b49-9fff-c4aaf6e4de68",
   "metadata": {},
   "source": [
    "1.\n",
    "2.\n",
    "3.\n",
    "4."
   ]
  },
  {
   "cell_type": "markdown",
   "id": "98d693ac-9111-4325-8108-dadd7c496214",
   "metadata": {},
   "source": [
    "-\n",
    "-\n",
    "-\n",
    "-"
   ]
  },
  {
   "cell_type": "markdown",
   "id": "3713d8c3-97b4-4dec-8931-4b76a08f7490",
   "metadata": {},
   "source": [
    "$$ Z = \\frac{y^3}{\\sqrt{}} $$"
   ]
  }
 ],
 "metadata": {
  "kernelspec": {
   "display_name": "Python 3 (ipykernel)",
   "language": "python",
   "name": "python3"
  },
  "language_info": {
   "codemirror_mode": {
    "name": "ipython",
    "version": 3
   },
   "file_extension": ".py",
   "mimetype": "text/x-python",
   "name": "python",
   "nbconvert_exporter": "python",
   "pygments_lexer": "ipython3",
   "version": "3.11.4"
  }
 },
 "nbformat": 4,
 "nbformat_minor": 5
}
