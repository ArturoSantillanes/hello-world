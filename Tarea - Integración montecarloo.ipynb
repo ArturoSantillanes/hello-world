{
 "cells": [
  {
   "cell_type": "markdown",
   "metadata": {},
   "source": [
    "# TAREA"
   ]
  },
  {
   "cell_type": "markdown",
   "metadata": {},
   "source": [
    "## Arturo Santillanes Llamas - 10/10/2023"
   ]
  },
  {
   "cell_type": "markdown",
   "metadata": {},
   "source": [
    "## Integración Montecarlo"
   ]
  },
  {
   "cell_type": "markdown",
   "metadata": {},
   "source": [
    "1. Realizar las siguientes integrales. Poner los resultados en una tabla cuyas filas correspondan a la cantidad de términos utilizados en la aproximación (usar 10, 100, 1000, 10000 y 100000 términos) y cuyas columnas correspondan a las funciones.\n",
    "    + $\\int_{1}^{3} e^{x}\\log(x)\\text{d}x$.\n",
    "    + $\\int_1^3 \\sin(x)\\ln(x) \\text{d}x$"
   ]
  },
  {
   "cell_type": "code",
   "execution_count": 24,
   "metadata": {
    "tags": []
   },
   "outputs": [
    {
     "data": {
      "text/plain": [
       "5.863673891768952"
      ]
     },
     "execution_count": 24,
     "metadata": {},
     "output_type": "execute_result"
    }
   ],
   "source": [
    "import numpy as np\n",
    "import pandas as pd\n",
    "\n",
    "def g(x):\n",
    "    return np.exp(x)*np.log10(x)\n",
    "\n",
    "q = 1\n",
    "d = 3\n",
    "r = np.logspace(1, 5, 5)\n",
    "table1 = pd.DataFrame(columns = [\"Aproximación\", \"Error\"], index=r)\n",
    "def montecarlo1(g, r, q, d):\n",
    "    u = np.random.uniform(d, q, r)\n",
    "    media = np.mean(g(u))\n",
    "    return media*(d-q)\n",
    "\n",
    "montecarlo1(g, 1000, q, d)"
   ]
  },
  {
   "cell_type": "code",
   "execution_count": 25,
   "metadata": {
    "tags": []
   },
   "outputs": [
    {
     "data": {
      "text/plain": [
       "0.8826735083171625"
      ]
     },
     "execution_count": 25,
     "metadata": {},
     "output_type": "execute_result"
    }
   ],
   "source": [
    "def f(x):\n",
    "    return np.sin(x)*np.log(x)\n",
    "\n",
    "q = 1\n",
    "d = 3\n",
    "r = np.logspace(1, 5, 5)\n",
    "table1 = pd.DataFrame(columns = [\"Aproximación\", \"Error\"], index=N)\n",
    "def montecarlo1(f, r, q, d):\n",
    "    u = np.random.uniform(q, d, r)\n",
    "    media = np.mean(f(u))\n",
    "    return media*(d-q)\n",
    "\n",
    "montecarlo1(f, 1000, a, b)"
   ]
  },
  {
   "cell_type": "code",
   "execution_count": 26,
   "metadata": {
    "tags": []
   },
   "outputs": [
    {
     "data": {
      "text/html": [
       "<div>\n",
       "<style scoped>\n",
       "    .dataframe tbody tr th:only-of-type {\n",
       "        vertical-align: middle;\n",
       "    }\n",
       "\n",
       "    .dataframe tbody tr th {\n",
       "        vertical-align: top;\n",
       "    }\n",
       "\n",
       "    .dataframe thead th {\n",
       "        text-align: right;\n",
       "    }\n",
       "</style>\n",
       "<table border=\"1\" class=\"dataframe\">\n",
       "  <thead>\n",
       "    <tr style=\"text-align: right;\">\n",
       "      <th></th>\n",
       "      <th>Aprox1</th>\n",
       "      <th>Err1</th>\n",
       "      <th>Aprox2</th>\n",
       "      <th>Err2</th>\n",
       "    </tr>\n",
       "  </thead>\n",
       "  <tbody>\n",
       "    <tr>\n",
       "      <th>10.0</th>\n",
       "      <td>7.376881</td>\n",
       "      <td>1.284811</td>\n",
       "      <td>0.837058</td>\n",
       "      <td>0.032742</td>\n",
       "    </tr>\n",
       "    <tr>\n",
       "      <th>100.0</th>\n",
       "      <td>6.251957</td>\n",
       "      <td>0.159887</td>\n",
       "      <td>0.960848</td>\n",
       "      <td>0.091048</td>\n",
       "    </tr>\n",
       "    <tr>\n",
       "      <th>1000.0</th>\n",
       "      <td>6.01203</td>\n",
       "      <td>0.08004</td>\n",
       "      <td>0.865315</td>\n",
       "      <td>0.004485</td>\n",
       "    </tr>\n",
       "    <tr>\n",
       "      <th>10000.0</th>\n",
       "      <td>6.131262</td>\n",
       "      <td>0.039192</td>\n",
       "      <td>0.871189</td>\n",
       "      <td>0.001389</td>\n",
       "    </tr>\n",
       "    <tr>\n",
       "      <th>100000.0</th>\n",
       "      <td>6.100781</td>\n",
       "      <td>0.008711</td>\n",
       "      <td>0.869075</td>\n",
       "      <td>0.000725</td>\n",
       "    </tr>\n",
       "  </tbody>\n",
       "</table>\n",
       "</div>"
      ],
      "text/plain": [
       "            Aprox1      Err1    Aprox2      Err2\n",
       "10.0      7.376881  1.284811  0.837058  0.032742\n",
       "100.0     6.251957  0.159887  0.960848  0.091048\n",
       "1000.0     6.01203   0.08004  0.865315  0.004485\n",
       "10000.0   6.131262  0.039192  0.871189  0.001389\n",
       "100000.0  6.100781  0.008711  0.869075  0.000725"
      ]
     },
     "execution_count": 26,
     "metadata": {},
     "output_type": "execute_result"
    }
   ],
   "source": [
    "N = np.logspace(1, 5, 5)\n",
    "tabla = pd.DataFrame(columns=[\"Aprox1\", \"Err1\", \"Aprox2\", \"Err2\"])\n",
    "for i in N:\n",
    "    \n",
    "    aprox3 = montecarlo1(g, int(i), a, b)\n",
    "    tabla.loc[i, \"Aprox1\"] = aprox3\n",
    "    tabla.loc[i, \"Err1\"] = abs(6.09207 -  aprox3)\n",
    "    \n",
    "    aprox4 = montecarlo1(f, int(i), a, b)\n",
    "    tabla.loc[i, \"Aprox2\"] = aprox4\n",
    "    tabla.loc[i, \"Err2\"] = abs(0.8698 -  aprox4) \n",
    "    \n",
    "tabla"
   ]
  },
  {
   "cell_type": "markdown",
   "metadata": {},
   "source": [
    "2. Aproximar el área de la región descrita por\n",
    "\n",
    "$$x^2+2y^2\\leq-2x+8y-7$$\n",
    "\n",
    "Poner los resultados en una tabla cuyas filas correspondan a la cantidad de términos utilizados en la aproximación (usar 10, 100, 1000, 10000 y 100000 términos) y en las columnas el valor de aproximación y el error relativo.\n",
    "\n",
    "Definir unos límites adecuados $a_1$, $b_1$, $a_2$ y $b_2$, para la región $R=\\left[a_1,b_1\\right]\\times\\left[a_2,b_2\\right]$"
   ]
  },
  {
   "cell_type": "code",
   "execution_count": 33,
   "metadata": {
    "tags": []
   },
   "outputs": [
    {
     "data": {
      "text/plain": [
       "<matplotlib.collections.PathCollection at 0x12500c110>"
      ]
     },
     "execution_count": 33,
     "metadata": {},
     "output_type": "execute_result"
    },
    {
     "data": {
      "image/png": "[encoded data removed]",
      "text/plain": [
       "<Figure size 640x480 with 1 Axes>"
      ]
     },
     "metadata": {},
     "output_type": "display_data"
    }
   ],
   "source": [
    "import matplotlib.pyplot as plt\n",
    "%matplotlib inline\n",
    "def bernoulli(x,y):\n",
    "    return (x**2) + 2*y**2 <= - 2*x + 8*y - 7\n",
    "k = np.random.uniform(3, 1, 300)\n",
    "z = np.random.uniform(-2.45, 0.45, 300)\n",
    "z, k = np.meshgrid(z, k)\n",
    "plt.figure()\n",
    "plt.scatter(z, k, c=bernoulli(z, k))"
   ]
  },
  {
   "cell_type": "code",
   "execution_count": null,
   "metadata": {
    "tags": []
   },
   "outputs": [],
   "source": []
  },
  {
   "cell_type": "code",
   "execution_count": null,
   "metadata": {},
   "outputs": [],
   "source": []
  },
  {
   "cell_type": "markdown",
   "metadata": {},
   "source": [
    "3. Describe 3 casos de uso de integración Montecarlo en tu ingeniería."
   ]
  },
  {
   "cell_type": "markdown",
   "metadata": {},
   "source": [
    "Para valorar opciones financieras, que son contratos que te dan el derecho de comprar o vender algo a un precio fijo en el futuro. Con Monte Carlo puedes estimar el valor de una opción simulando muchos posibles precios del activo que quieres comprar o vender .\n",
    "\n",
    "Para medir el riesgo de crédito, que es la probabilidad de que alguien no te pague lo que te debe. Con Monte Carlo puedes estimar el riesgo de crédito simulando las variables que influyen en el comportamiento de los deudores, como la probabilidad de que no paguen, lo que te deben y lo que puedes recuperar .\n",
    "\n",
    "Para optimizar portafolios, que son conjuntos de activos financieros que tienes para obtener una ganancia con un nivel de riesgo aceptable. Con Monte Carlo puedes estimar la ganancia y el riesgo de un portafolio simulando los rendimientos futuros de los activos que lo forman, y así encontrar la mejor combinación de activos para tu objetivo."
   ]
  },
  {
   "cell_type": "markdown",
   "metadata": {},
   "source": []
  }
 ],
 "metadata": {
  "kernelspec": {
   "display_name": "Python 3 (ipykernel)",
   "language": "python",
   "name": "python3"
  },
  "language_info": {
   "codemirror_mode": {
    "name": "ipython",
    "version": 3
   },
   "file_extension": ".py",
   "mimetype": "text/x-python",
   "name": "python",
   "nbconvert_exporter": "python",
   "pygments_lexer": "ipython3",
   "version": "3.11.4"
  }
 },
 "nbformat": 4,
 "nbformat_minor": 4
}
